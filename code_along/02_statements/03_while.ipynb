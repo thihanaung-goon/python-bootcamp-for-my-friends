{
 "cells": [
  {
   "cell_type": "markdown",
   "id": "ec5cdac2",
   "metadata": {},
   "source": [
    "# WHILE"
   ]
  },
  {
   "cell_type": "code",
   "execution_count": 1,
   "id": "318b1b9c",
   "metadata": {},
   "outputs": [
    {
     "name": "stdout",
     "output_type": "stream",
     "text": [
      "0\n",
      "1\n",
      "2\n",
      "3\n",
      "4\n"
     ]
    }
   ],
   "source": [
    "num = 0\n",
    "\n",
    "while num < 5:\n",
    "    print(num)\n",
    "    num += 1 # don't forget to increment, if not it will become \n",
    "                # infinite loop"
   ]
  },
  {
   "cell_type": "code",
   "execution_count": 2,
   "id": "8386a3fd",
   "metadata": {},
   "outputs": [
    {
     "name": "stdout",
     "output_type": "stream",
     "text": [
      "This is num before while loop 0\n",
      "0\n",
      "1\n",
      "2\n",
      "3\n",
      "4\n",
      "This is num after while loop 5\n"
     ]
    }
   ],
   "source": [
    "num = 0\n",
    "print(f\"This is num before while loop {num}\")\n",
    "\n",
    "while num < 5:\n",
    "    print(num)\n",
    "    num += 1 # don't forget to increment, if not it will become \n",
    "                # infinite loop\n",
    "print(f\"This is num after while loop {num}\")"
   ]
  },
  {
   "cell_type": "markdown",
   "id": "6dfc4dfb",
   "metadata": {},
   "source": [
    "# BREAK, CONTINUE"
   ]
  },
  {
   "cell_type": "code",
   "execution_count": 3,
   "id": "886b5571",
   "metadata": {},
   "outputs": [
    {
     "name": "stdout",
     "output_type": "stream",
     "text": [
      "0\n",
      "1\n"
     ]
    }
   ],
   "source": [
    "num = 0\n",
    "\n",
    "while num < 5:\n",
    "    if num == 2:\n",
    "        break\n",
    "    print(num)\n",
    "    num += 1"
   ]
  },
  {
   "cell_type": "code",
   "execution_count": 4,
   "id": "42bffe9a",
   "metadata": {},
   "outputs": [
    {
     "name": "stdout",
     "output_type": "stream",
     "text": [
      "G.o.o.d.b.y.e. .M.a.r.s. .H.e.l.l.o. .W.o.r.l.d.s."
     ]
    }
   ],
   "source": [
    "my_letter = \"Goodbye Mars! Hello Worlds!\"\n",
    "\n",
    "for char in my_letter:\n",
    "    if char == '!':\n",
    "        continue\n",
    "    else:\n",
    "        print(char, end='.')"
   ]
  },
  {
   "cell_type": "code",
   "execution_count": 5,
   "id": "397b4c1c",
   "metadata": {},
   "outputs": [
    {
     "name": "stdout",
     "output_type": "stream",
     "text": [
      "Hi Im here. What are you doing"
     ]
    }
   ],
   "source": [
    "my_text = \"Hi! I'm here. What are you doing?\"\n",
    "chars_to_remove = \"!?'\"\n",
    "for char in my_text:\n",
    "    if char in chars_to_remove:\n",
    "        continue\n",
    "    else:\n",
    "        print(char, end='')"
   ]
  }
 ],
 "metadata": {
  "kernelspec": {
   "display_name": "Python 3.9.7 64-bit",
   "language": "python",
   "name": "python397jvsc74a57bd0916dbcbb3f70747c44a77c7bcd40155683ae19c65e1c03b4aa3499c5328201f1"
  },
  "language_info": {
   "codemirror_mode": {
    "name": "ipython",
    "version": 3
   },
   "file_extension": ".py",
   "mimetype": "text/x-python",
   "name": "python",
   "nbconvert_exporter": "python",
   "pygments_lexer": "ipython3",
   "version": "3.9.7"
  }
 },
 "nbformat": 4,
 "nbformat_minor": 5
}
