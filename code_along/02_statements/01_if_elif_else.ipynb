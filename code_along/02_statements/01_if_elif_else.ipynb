{
 "cells": [
  {
   "cell_type": "markdown",
   "id": "d3d15b18",
   "metadata": {},
   "source": [
    "# IF , ELSE"
   ]
  },
  {
   "cell_type": "code",
   "execution_count": 1,
   "id": "f3b86af7",
   "metadata": {},
   "outputs": [
    {
     "name": "stdout",
     "output_type": "stream",
     "text": [
      "IT IS EXECUTED\n"
     ]
    }
   ],
   "source": [
    "if True:\n",
    "    print(\"IT IS EXECUTED\")"
   ]
  },
  {
   "cell_type": "code",
   "execution_count": 2,
   "id": "00eaf13a",
   "metadata": {},
   "outputs": [],
   "source": [
    "if False:\n",
    "    print(\"It will not Executed.\")"
   ]
  },
  {
   "cell_type": "code",
   "execution_count": 3,
   "id": "d779e49f",
   "metadata": {},
   "outputs": [
    {
     "name": "stdout",
     "output_type": "stream",
     "text": [
      "DO THIS\n"
     ]
    }
   ],
   "source": [
    "condition1 = True\n",
    "\n",
    "if condition1:\n",
    "    print('DO THIS')\n",
    "else:\n",
    "    print('DO THAT')"
   ]
  },
  {
   "cell_type": "code",
   "execution_count": 4,
   "id": "f36eb588",
   "metadata": {},
   "outputs": [
    {
     "name": "stdout",
     "output_type": "stream",
     "text": [
      "DO THAT\n"
     ]
    }
   ],
   "source": [
    "condition1 = False\n",
    "\n",
    "if condition1:\n",
    "    print('DO THIS')\n",
    "else:\n",
    "    print('DO THAT')"
   ]
  },
  {
   "cell_type": "code",
   "execution_count": 1,
   "id": "a1923bfa",
   "metadata": {},
   "outputs": [
    {
     "name": "stdout",
     "output_type": "stream",
     "text": [
      "Stay Inside\n"
     ]
    }
   ],
   "source": [
    "rainy = True \n",
    "\n",
    "if rainy:\n",
    "    print(\"Stay Inside\")\n",
    "else:\n",
    "    print(\"Let's go outside\")"
   ]
  },
  {
   "cell_type": "code",
   "execution_count": 2,
   "id": "d4f2a3f4",
   "metadata": {},
   "outputs": [
    {
     "name": "stdout",
     "output_type": "stream",
     "text": [
      "Let's go outside\n"
     ]
    }
   ],
   "source": [
    "rainy = False \n",
    "\n",
    "if rainy:\n",
    "    print(\"Stay Inside\")\n",
    "else:\n",
    "    print(\"Let's go outside\")"
   ]
  },
  {
   "cell_type": "code",
   "execution_count": 4,
   "id": "cb7bd602",
   "metadata": {},
   "outputs": [
    {
     "name": "stdout",
     "output_type": "stream",
     "text": [
      "'a' contains in this word\n"
     ]
    }
   ],
   "source": [
    "word = \"happy# IF , ELSE\"\n",
    "if 'a' in word:\n",
    "    print(\"'a' contains in this word\")\n",
    "else:\n",
    "    print(\"'a' does not contain in this word\")"
   ]
  },
  {
   "cell_type": "markdown",
   "id": "f6bf2e89",
   "metadata": {},
   "source": [
    "# IF , ELIF , ELSE"
   ]
  },
  {
   "cell_type": "markdown",
   "id": "4d25120e",
   "metadata": {},
   "source": [
    "Eg-    \n",
    "score above 80 => 'Pass with distinction'  \n",
    "score between 60 and 80 => 'Pass with credits'  \n",
    "score between 40 and 60 => 'Pass'  \n",
    "score less than 40 => 'Fail'  \n"
   ]
  },
  {
   "cell_type": "code",
   "execution_count": 5,
   "id": "8ad32ba3",
   "metadata": {},
   "outputs": [
    {
     "name": "stdout",
     "output_type": "stream",
     "text": [
      "Pass with distinction\n"
     ]
    }
   ],
   "source": [
    "score = 99\n",
    "\n",
    "if score >= 80: \n",
    "    print(\"Pass with distinction\")\n",
    "elif score < 80 and score >= 60: \n",
    "    print(\"Pass with credits\")\n",
    "elif score < 60 and score >= 40: \n",
    "    print(\"Pass\")\n",
    "else:\n",
    "    print(\"Fail\")    "
   ]
  },
  {
   "cell_type": "markdown",
   "id": "331f7452",
   "metadata": {},
   "source": [
    "# NESTED IFs"
   ]
  },
  {
   "cell_type": "code",
   "execution_count": 7,
   "id": "e4694a5a",
   "metadata": {},
   "outputs": [
    {
     "name": "stdout",
     "output_type": "stream",
     "text": [
      "Enter year:  2000\n",
      "Leap Year\n"
     ]
    }
   ],
   "source": [
    "year = int(input('Enter year:  '))\n",
    "\n",
    "if year % 4 == 0:\n",
    "    if year % 100 == 0:\n",
    "        if year % 400 == 0:\n",
    "            print(\"Leap Year\")\n",
    "        else: \n",
    "            print(\"Not a Leap Year\")\n",
    "    else:\n",
    "        print(\"Leap Year\")\n",
    "else:\n",
    "    print(\"Not a Leap Year\")"
   ]
  },
  {
   "cell_type": "markdown",
   "id": "3c40c50c",
   "metadata": {},
   "source": [
    "# Leap Year with IF-ELIF-ELSE"
   ]
  },
  {
   "cell_type": "code",
   "execution_count": 9,
   "id": "26d8fd3e",
   "metadata": {},
   "outputs": [
    {
     "name": "stdout",
     "output_type": "stream",
     "text": [
      "Enter year: 2000\n",
      "Leap year\n"
     ]
    }
   ],
   "source": [
    "year = int(input(\"Enter year: \"))\n",
    "\n",
    "if year % 4 != 0:\n",
    "    print(\"Not a leap year\")\n",
    "elif year % 400 != 0:\n",
    "    print(\"Leap Year\")\n",
    "elif year % 400 != 0:\n",
    "    print(\"Not a leap year\")\n",
    "else: \n",
    "    print(\"Leap year\")"
   ]
  }
 ],
 "metadata": {
  "kernelspec": {
   "display_name": "Python 3.9.7 64-bit",
   "language": "python",
   "name": "python397jvsc74a57bd0916dbcbb3f70747c44a77c7bcd40155683ae19c65e1c03b4aa3499c5328201f1"
  },
  "language_info": {
   "codemirror_mode": {
    "name": "ipython",
    "version": 3
   },
   "file_extension": ".py",
   "mimetype": "text/x-python",
   "name": "python",
   "nbconvert_exporter": "python",
   "pygments_lexer": "ipython3",
   "version": "3.9.7"
  }
 },
 "nbformat": 4,
 "nbformat_minor": 5
}
