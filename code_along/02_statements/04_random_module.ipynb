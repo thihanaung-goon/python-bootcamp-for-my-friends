{
 "cells": [
  {
   "cell_type": "markdown",
   "id": "6d833aa9",
   "metadata": {},
   "source": [
    "### import random module"
   ]
  },
  {
   "cell_type": "code",
   "execution_count": 1,
   "id": "0aa38257",
   "metadata": {},
   "outputs": [],
   "source": [
    "import random "
   ]
  },
  {
   "cell_type": "code",
   "execution_count": 2,
   "id": "49f3ba50",
   "metadata": {},
   "outputs": [],
   "source": [
    "# random.seed(123)"
   ]
  },
  {
   "cell_type": "markdown",
   "id": "78edb48b",
   "metadata": {},
   "source": [
    "### create random number (float) between 0 and 1. "
   ]
  },
  {
   "cell_type": "code",
   "execution_count": 3,
   "id": "1ad79ef1",
   "metadata": {},
   "outputs": [
    {
     "data": {
      "text/plain": [
       "0.3423355429827314"
      ]
     },
     "execution_count": 3,
     "metadata": {},
     "output_type": "execute_result"
    }
   ],
   "source": [
    "random.random()"
   ]
  },
  {
   "cell_type": "markdown",
   "id": "8aa58ccb",
   "metadata": {},
   "source": [
    "### create random integer between start point and ending point. "
   ]
  },
  {
   "cell_type": "code",
   "execution_count": 4,
   "id": "832b8142",
   "metadata": {},
   "outputs": [
    {
     "data": {
      "text/plain": [
       "3"
      ]
     },
     "execution_count": 4,
     "metadata": {},
     "output_type": "execute_result"
    }
   ],
   "source": [
    "random.randint(0, 3)"
   ]
  },
  {
   "cell_type": "markdown",
   "id": "a04dfaf2",
   "metadata": {},
   "source": [
    "### choosing random items from  a list"
   ]
  },
  {
   "cell_type": "code",
   "execution_count": 5,
   "id": "2152875d",
   "metadata": {},
   "outputs": [
    {
     "data": {
      "text/plain": [
       "'banana'"
      ]
     },
     "execution_count": 5,
     "metadata": {},
     "output_type": "execute_result"
    }
   ],
   "source": [
    "fruits = ['mango', 'banana', 'orange']\n",
    "random.choice(fruits)"
   ]
  },
  {
   "cell_type": "markdown",
   "id": "de6bad26",
   "metadata": {},
   "source": [
    "### Stimulating head and tail with random number. "
   ]
  },
  {
   "cell_type": "code",
   "execution_count": 6,
   "id": "128cfd89",
   "metadata": {},
   "outputs": [
    {
     "name": "stdout",
     "output_type": "stream",
     "text": [
      "TAIL\n"
     ]
    }
   ],
   "source": [
    "random_num = random.random()\n",
    "if random_num >= 0.5:\n",
    "    print(\"HEAD\")\n",
    "else:\n",
    "    print(\"TAIL\")"
   ]
  }
 ],
 "metadata": {
  "kernelspec": {
   "display_name": "Python 3.9.7 64-bit",
   "language": "python",
   "name": "python397jvsc74a57bd0916dbcbb3f70747c44a77c7bcd40155683ae19c65e1c03b4aa3499c5328201f1"
  },
  "language_info": {
   "codemirror_mode": {
    "name": "ipython",
    "version": 3
   },
   "file_extension": ".py",
   "mimetype": "text/x-python",
   "name": "python",
   "nbconvert_exporter": "python",
   "pygments_lexer": "ipython3",
   "version": "3.9.7"
  }
 },
 "nbformat": 4,
 "nbformat_minor": 5
}
