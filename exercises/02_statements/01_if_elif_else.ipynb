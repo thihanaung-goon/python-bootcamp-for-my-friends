{
 "cells": [
  {
   "cell_type": "markdown",
   "id": "d90ce6fa",
   "metadata": {},
   "source": [
    "# IF , ELIF , ELSE Exercises"
   ]
  },
  {
   "cell_type": "markdown",
   "id": "cf7312c3",
   "metadata": {},
   "source": [
    "1. Write a program to check a number is odd or even. "
   ]
  },
  {
   "cell_type": "code",
   "execution_count": null,
   "id": "9d59599f",
   "metadata": {},
   "outputs": [],
   "source": [
    "num = 13\n",
    "# write below\n",
    "\n"
   ]
  },
  {
   "cell_type": "markdown",
   "id": "59d40e5e",
   "metadata": {},
   "source": [
    "2. Write a program to check leap year"
   ]
  },
  {
   "cell_type": "code",
   "execution_count": null,
   "id": "c25e7f19",
   "metadata": {},
   "outputs": [],
   "source": [
    "year = 1992\n",
    "# write below\n"
   ]
  },
  {
   "cell_type": "markdown",
   "id": "617181b0",
   "metadata": {},
   "source": [
    "3. \n",
    "if a number is divisible by 3, print `Fizz`. <br>\n",
    "if a number is divisible by 5, print `Buzz`. <br>\n",
    "if a number is both divisible by 3 and 5, print `FizzBuzz`.  <br>\n",
    "\n",
    "test with 3, 5, 7, 15 to check correct or not. "
   ]
  },
  {
   "cell_type": "code",
   "execution_count": null,
   "id": "60799765",
   "metadata": {},
   "outputs": [],
   "source": []
  }
 ],
 "metadata": {
  "kernelspec": {
   "display_name": "Python 3.9.7 64-bit",
   "language": "python",
   "name": "python397jvsc74a57bd0916dbcbb3f70747c44a77c7bcd40155683ae19c65e1c03b4aa3499c5328201f1"
  },
  "language_info": {
   "codemirror_mode": {
    "name": "ipython",
    "version": 3
   },
   "file_extension": ".py",
   "mimetype": "text/x-python",
   "name": "python",
   "nbconvert_exporter": "python",
   "pygments_lexer": "ipython3",
   "version": "3.9.7"
  }
 },
 "nbformat": 4,
 "nbformat_minor": 5
}
