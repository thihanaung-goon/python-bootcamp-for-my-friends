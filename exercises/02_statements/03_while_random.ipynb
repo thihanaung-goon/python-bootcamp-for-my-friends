{
 "cells": [
  {
   "cell_type": "markdown",
   "id": "a39214cd",
   "metadata": {},
   "source": [
    "# While Exercises"
   ]
  },
  {
   "cell_type": "markdown",
   "id": "5f26b57e",
   "metadata": {},
   "source": [
    "1. Print out odd numbers between 0 and 10 using while loop.    \n",
    "\n",
    "1 , 3, 5 , 7 , 9"
   ]
  },
  {
   "cell_type": "code",
   "execution_count": null,
   "id": "04963856",
   "metadata": {},
   "outputs": [],
   "source": []
  },
  {
   "cell_type": "code",
   "execution_count": null,
   "id": "80ffb77a",
   "metadata": {},
   "outputs": [],
   "source": []
  },
  {
   "cell_type": "markdown",
   "id": "2f55a382",
   "metadata": {},
   "source": [
    "2. Create 10 flip coins using random module. eg-\n",
    "<pre>\n",
    "TAIL\n",
    "HEAD\n",
    "TAIL\n",
    "TAIL\n",
    "TAIL\n",
    "HEAD\n",
    "TAIL\n",
    "TAIL\n",
    "TAIL\n",
    "HEAD\n",
    "</pre>"
   ]
  },
  {
   "cell_type": "code",
   "execution_count": null,
   "id": "a0cf1939",
   "metadata": {},
   "outputs": [],
   "source": [
    "\n",
    "\n"
   ]
  },
  {
   "cell_type": "code",
   "execution_count": null,
   "id": "f1782ead",
   "metadata": {},
   "outputs": [],
   "source": []
  },
  {
   "cell_type": "markdown",
   "id": "8d2aec13",
   "metadata": {},
   "source": [
    "3. Choose 3 items from the list. "
   ]
  },
  {
   "cell_type": "code",
   "execution_count": null,
   "id": "997233bf",
   "metadata": {},
   "outputs": [],
   "source": [
    "fruits = ['mango', 'banana', 'orange', 'coconut']\n",
    "\n"
   ]
  },
  {
   "cell_type": "code",
   "execution_count": null,
   "id": "66ac51cf",
   "metadata": {},
   "outputs": [],
   "source": []
  }
 ],
 "metadata": {
  "kernelspec": {
   "display_name": "Python 3.9.7 64-bit",
   "language": "python",
   "name": "python397jvsc74a57bd0916dbcbb3f70747c44a77c7bcd40155683ae19c65e1c03b4aa3499c5328201f1"
  },
  "language_info": {
   "codemirror_mode": {
    "name": "ipython",
    "version": 3
   },
   "file_extension": ".py",
   "mimetype": "text/x-python",
   "name": "python",
   "nbconvert_exporter": "python",
   "pygments_lexer": "ipython3",
   "version": "3.9.7"
  }
 },
 "nbformat": 4,
 "nbformat_minor": 5
}
