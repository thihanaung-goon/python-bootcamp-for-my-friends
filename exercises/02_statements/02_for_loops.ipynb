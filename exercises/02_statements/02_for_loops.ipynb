{
 "cells": [
  {
   "cell_type": "markdown",
   "id": "41cf6ae4",
   "metadata": {},
   "source": [
    "# For Loops Exercises"
   ]
  },
  {
   "cell_type": "markdown",
   "id": "17865a6a",
   "metadata": {},
   "source": [
    "1. Print like below.  \n",
    "9 rows\n",
    "\n",
    "<pre>\n",
    "*\n",
    "**\n",
    "***\n",
    "****\n",
    "*****\n",
    "******\n",
    "*******\n",
    "********\n",
    "*********\n",
    "</pre>"
   ]
  },
  {
   "cell_type": "code",
   "execution_count": null,
   "id": "1de63995",
   "metadata": {},
   "outputs": [],
   "source": []
  },
  {
   "cell_type": "code",
   "execution_count": null,
   "id": "2f0f28bb",
   "metadata": {},
   "outputs": [],
   "source": []
  },
  {
   "cell_type": "markdown",
   "id": "a7bda364",
   "metadata": {},
   "source": [
    "2. Print like this. \n",
    "\n",
    "<pre>\n",
    "*\n",
    "**\n",
    "***\n",
    "****\n",
    "*****\n",
    "****\n",
    "***\n",
    "**\n",
    "*\n",
    "</pre>"
   ]
  },
  {
   "cell_type": "code",
   "execution_count": null,
   "id": "a21b8db3",
   "metadata": {},
   "outputs": [],
   "source": []
  },
  {
   "cell_type": "code",
   "execution_count": null,
   "id": "592ae497",
   "metadata": {},
   "outputs": [],
   "source": []
  },
  {
   "cell_type": "markdown",
   "id": "ecd43e4c",
   "metadata": {},
   "source": [
    "3. How many A contains in text? Both A and a."
   ]
  },
  {
   "cell_type": "code",
   "execution_count": null,
   "id": "8800679f",
   "metadata": {},
   "outputs": [],
   "source": [
    "text = \"How many A contains? Both capital A and lower a\"\n"
   ]
  },
  {
   "cell_type": "code",
   "execution_count": null,
   "id": "5dff9dc7",
   "metadata": {},
   "outputs": [],
   "source": []
  },
  {
   "cell_type": "markdown",
   "id": "e820033d",
   "metadata": {},
   "source": [
    "4. Separate into two different list; even and odd.\n",
    "\n",
    "<pre>\n",
    "Evens : [2, 4, 4, 6, 4, 2]\n",
    "Odds  : [1, 3, 3, 5, 3]\n",
    "</pre>"
   ]
  },
  {
   "cell_type": "code",
   "execution_count": null,
   "id": "808dadac",
   "metadata": {},
   "outputs": [],
   "source": [
    "num_list = [1, 2, 3, 4, 3, 4, 6, 5, 4, 3, 2]\n",
    "evens = []\n",
    "odds = []\n",
    "\n"
   ]
  },
  {
   "cell_type": "code",
   "execution_count": null,
   "id": "11d96c15",
   "metadata": {},
   "outputs": [],
   "source": []
  },
  {
   "cell_type": "markdown",
   "id": "e8efef0e",
   "metadata": {},
   "source": [
    "5. Calculate the average number from the list. \n",
    "Average Number is the sum of all numbers divided by the count of the number. \n",
    "<pre>\n",
    "Average number is 3.0\n",
    "<pre>"
   ]
  },
  {
   "cell_type": "code",
   "execution_count": null,
   "id": "470bf136",
   "metadata": {},
   "outputs": [],
   "source": [
    "num_list = [3, 4, 3, 2, 3, 4, 3, 2, 4, 2, 3]\n",
    "\n"
   ]
  },
  {
   "cell_type": "code",
   "execution_count": null,
   "id": "b84486c5",
   "metadata": {},
   "outputs": [],
   "source": []
  },
  {
   "cell_type": "markdown",
   "id": "681a89db",
   "metadata": {},
   "source": [
    "6. Loop the dictionary. Result looks like this. \n",
    "<pre>\n",
    "Mg Mg is 20 years old.\n",
    "Rose is 21 years old.\n",
    "John is 30 years old.\n",
    "Terry is 25 years old.\n",
    "</pre>"
   ]
  },
  {
   "cell_type": "code",
   "execution_count": null,
   "id": "cabc652f",
   "metadata": {},
   "outputs": [],
   "source": [
    "people = {\n",
    "    'Mg Mg': 20,\n",
    "    'Rose': 21,\n",
    "    'John': 30,\n",
    "    'Terry': 25\n",
    "}\n",
    "\n"
   ]
  },
  {
   "cell_type": "code",
   "execution_count": null,
   "id": "e7ee004d",
   "metadata": {},
   "outputs": [],
   "source": []
  },
  {
   "cell_type": "markdown",
   "id": "aefabfa2",
   "metadata": {},
   "source": [
    "7. Find the index from the word 'Hello!'.\n",
    "\n",
    "<pre>\n",
    "H is index 0.\n",
    "e is index 1.\n",
    "l is index 2.\n",
    "l is index 3.\n",
    "o is index 4.\n",
    "! is index 5.\n",
    "</pre>"
   ]
  },
  {
   "cell_type": "code",
   "execution_count": null,
   "id": "8a95e836",
   "metadata": {},
   "outputs": [],
   "source": [
    "my_text = \"Hello!\"\n"
   ]
  },
  {
   "cell_type": "code",
   "execution_count": null,
   "id": "6daf0aed",
   "metadata": {},
   "outputs": [],
   "source": []
  },
  {
   "cell_type": "markdown",
   "id": "f91a12e3",
   "metadata": {},
   "source": [
    "8. Combine the two lists like this. \n",
    "<pre>\n",
    "mango costs 400 kyats.\n",
    "orange costs 200 kyats.\n",
    "apple costs 500 kyats.\n",
    "banana costs 1000 kyats.\n",
    "</pre>"
   ]
  },
  {
   "cell_type": "code",
   "execution_count": null,
   "id": "beec4d82",
   "metadata": {},
   "outputs": [],
   "source": [
    "fruits = ['mango', 'orange', 'apple', 'banana']\n",
    "prices = [400, 200, 500, 1000]\n",
    "\n"
   ]
  },
  {
   "cell_type": "code",
   "execution_count": null,
   "id": "1912a9f8",
   "metadata": {},
   "outputs": [],
   "source": []
  },
  {
   "cell_type": "markdown",
   "id": "c9c1f847",
   "metadata": {},
   "source": [
    "9. Combine the three lists like this. \n",
    "<pre>\n",
    "John Cena is 33 years old.\n",
    "Michael Owen is 45 years old.\n",
    "David James is 46 years old.\n",
    "Scarlet Johanson is 40 years old.\n",
    "</pre>"
   ]
  },
  {
   "cell_type": "code",
   "execution_count": null,
   "id": "2a487eb8",
   "metadata": {},
   "outputs": [],
   "source": [
    "first_names = ['John', 'Michael', 'David', 'Scarlet']\n",
    "last_names = ['Cena', 'Owen', 'James', 'Johanson']\n",
    "ages = [33, 45, 46, 40]\n",
    "\n",
    "\n"
   ]
  },
  {
   "cell_type": "code",
   "execution_count": null,
   "id": "1a58d5b0",
   "metadata": {},
   "outputs": [],
   "source": []
  }
 ],
 "metadata": {
  "kernelspec": {
   "display_name": "Python 3.9.7 64-bit",
   "language": "python",
   "name": "python397jvsc74a57bd0916dbcbb3f70747c44a77c7bcd40155683ae19c65e1c03b4aa3499c5328201f1"
  },
  "language_info": {
   "codemirror_mode": {
    "name": "ipython",
    "version": 3
   },
   "file_extension": ".py",
   "mimetype": "text/x-python",
   "name": "python",
   "nbconvert_exporter": "python",
   "pygments_lexer": "ipython3",
   "version": "3.9.7"
  }
 },
 "nbformat": 4,
 "nbformat_minor": 5
}
